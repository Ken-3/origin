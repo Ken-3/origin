{
 "cells": [
  {
   "cell_type": "code",
   "execution_count": 10,
   "metadata": {},
   "outputs": [],
   "source": [
    "?subset # ヘルプを表示する。help(subset)と同義。"
   ]
  },
  {
   "cell_type": "code",
   "execution_count": 34,
   "metadata": {},
   "outputs": [
    {
     "data": {
      "text/html": [
       "<ol class=list-inline>\n",
       "\t<li>1</li>\n",
       "\t<li>2</li>\n",
       "\t<li>3</li>\n",
       "\t<li>4</li>\n",
       "\t<li>5</li>\n",
       "\t<li>6</li>\n",
       "\t<li>7</li>\n",
       "\t<li>8</li>\n",
       "\t<li>9</li>\n",
       "\t<li>10</li>\n",
       "</ol>\n"
      ],
      "text/latex": [
       "\\begin{enumerate*}\n",
       "\\item 1\n",
       "\\item 2\n",
       "\\item 3\n",
       "\\item 4\n",
       "\\item 5\n",
       "\\item 6\n",
       "\\item 7\n",
       "\\item 8\n",
       "\\item 9\n",
       "\\item 10\n",
       "\\end{enumerate*}\n"
      ],
      "text/markdown": [
       "1. 1\n",
       "2. 2\n",
       "3. 3\n",
       "4. 4\n",
       "5. 5\n",
       "6. 6\n",
       "7. 7\n",
       "8. 8\n",
       "9. 9\n",
       "10. 10\n",
       "\n",
       "\n"
      ],
      "text/plain": [
       " [1]  1  2  3  4  5  6  7  8  9 10"
      ]
     },
     "metadata": {},
     "output_type": "display_data"
    }
   ],
   "source": [
    "List <- 1:10\n",
    "List"
   ]
  },
  {
   "cell_type": "code",
   "execution_count": 36,
   "metadata": {},
   "outputs": [
    {
     "data": {
      "text/html": [
       "<ol class=list-inline>\n",
       "\t<li>20</li>\n",
       "\t<li>10</li>\n",
       "\t<li>60</li>\n",
       "\t<li>40</li>\n",
       "\t<li>50</li>\n",
       "\t<li>30</li>\n",
       "</ol>\n"
      ],
      "text/latex": [
       "\\begin{enumerate*}\n",
       "\\item 20\n",
       "\\item 10\n",
       "\\item 60\n",
       "\\item 40\n",
       "\\item 50\n",
       "\\item 30\n",
       "\\end{enumerate*}\n"
      ],
      "text/markdown": [
       "1. 20\n",
       "2. 10\n",
       "3. 60\n",
       "4. 40\n",
       "5. 50\n",
       "6. 30\n",
       "\n",
       "\n"
      ],
      "text/plain": [
       "[1] 20 10 60 40 50 30"
      ]
     },
     "metadata": {},
     "output_type": "display_data"
    }
   ],
   "source": [
    "List_2 <- c(20,10,60,40,50,30)\n",
    "List_2"
   ]
  },
  {
   "cell_type": "code",
   "execution_count": 9,
   "metadata": {},
   "outputs": [
    {
     "data": {
      "text/html": [
       "<ol class=list-inline>\n",
       "\t<li>20</li>\n",
       "\t<li>10</li>\n",
       "\t<li>60</li>\n",
       "\t<li>40</li>\n",
       "\t<li>50</li>\n",
       "\t<li>30</li>\n",
       "</ol>\n"
      ],
      "text/latex": [
       "\\begin{enumerate*}\n",
       "\\item 20\n",
       "\\item 10\n",
       "\\item 60\n",
       "\\item 40\n",
       "\\item 50\n",
       "\\item 30\n",
       "\\end{enumerate*}\n"
      ],
      "text/markdown": [
       "1. 20\n",
       "2. 10\n",
       "3. 60\n",
       "4. 40\n",
       "5. 50\n",
       "6. 30\n",
       "\n",
       "\n"
      ],
      "text/plain": [
       "[1] 20 10 60 40 50 30"
      ]
     },
     "metadata": {},
     "output_type": "display_data"
    }
   ],
   "source": [
    "# 2.1 Vectors and assignment\n",
    "\n",
    "assign('List_3', c(20,10,60,40,50,30)) \n",
    "List_3"
   ]
  },
  {
   "cell_type": "code",
   "execution_count": 15,
   "metadata": {},
   "outputs": [
    {
     "data": {
      "text/html": [
       "<ol class=list-inline>\n",
       "\t<li>-5</li>\n",
       "\t<li>-4.8</li>\n",
       "\t<li>-4.6</li>\n",
       "\t<li>-4.4</li>\n",
       "\t<li>-4.2</li>\n",
       "\t<li>-4</li>\n",
       "\t<li>-3.8</li>\n",
       "\t<li>-3.6</li>\n",
       "\t<li>-3.4</li>\n",
       "\t<li>-3.2</li>\n",
       "\t<li>-3</li>\n",
       "\t<li>-2.8</li>\n",
       "\t<li>-2.6</li>\n",
       "\t<li>-2.4</li>\n",
       "\t<li>-2.2</li>\n",
       "\t<li>-2</li>\n",
       "\t<li>-1.8</li>\n",
       "\t<li>-1.6</li>\n",
       "\t<li>-1.4</li>\n",
       "\t<li>-1.2</li>\n",
       "\t<li>-1</li>\n",
       "\t<li>-0.8</li>\n",
       "\t<li>-0.6</li>\n",
       "\t<li>-0.399999999999999</li>\n",
       "\t<li>-0.199999999999999</li>\n",
       "\t<li>0</li>\n",
       "\t<li>0.2</li>\n",
       "\t<li>0.4</li>\n",
       "\t<li>0.600000000000001</li>\n",
       "\t<li>0.800000000000001</li>\n",
       "\t<li>1</li>\n",
       "\t<li>1.2</li>\n",
       "\t<li>1.4</li>\n",
       "\t<li>1.6</li>\n",
       "\t<li>1.8</li>\n",
       "\t<li>2</li>\n",
       "\t<li>2.2</li>\n",
       "\t<li>2.4</li>\n",
       "\t<li>2.6</li>\n",
       "\t<li>2.8</li>\n",
       "\t<li>3</li>\n",
       "\t<li>3.2</li>\n",
       "\t<li>3.4</li>\n",
       "\t<li>3.6</li>\n",
       "\t<li>3.8</li>\n",
       "\t<li>4</li>\n",
       "\t<li>4.2</li>\n",
       "\t<li>4.4</li>\n",
       "\t<li>4.6</li>\n",
       "\t<li>4.8</li>\n",
       "\t<li>5</li>\n",
       "</ol>\n"
      ],
      "text/latex": [
       "\\begin{enumerate*}\n",
       "\\item -5\n",
       "\\item -4.8\n",
       "\\item -4.6\n",
       "\\item -4.4\n",
       "\\item -4.2\n",
       "\\item -4\n",
       "\\item -3.8\n",
       "\\item -3.6\n",
       "\\item -3.4\n",
       "\\item -3.2\n",
       "\\item -3\n",
       "\\item -2.8\n",
       "\\item -2.6\n",
       "\\item -2.4\n",
       "\\item -2.2\n",
       "\\item -2\n",
       "\\item -1.8\n",
       "\\item -1.6\n",
       "\\item -1.4\n",
       "\\item -1.2\n",
       "\\item -1\n",
       "\\item -0.8\n",
       "\\item -0.6\n",
       "\\item -0.399999999999999\n",
       "\\item -0.199999999999999\n",
       "\\item 0\n",
       "\\item 0.2\n",
       "\\item 0.4\n",
       "\\item 0.600000000000001\n",
       "\\item 0.800000000000001\n",
       "\\item 1\n",
       "\\item 1.2\n",
       "\\item 1.4\n",
       "\\item 1.6\n",
       "\\item 1.8\n",
       "\\item 2\n",
       "\\item 2.2\n",
       "\\item 2.4\n",
       "\\item 2.6\n",
       "\\item 2.8\n",
       "\\item 3\n",
       "\\item 3.2\n",
       "\\item 3.4\n",
       "\\item 3.6\n",
       "\\item 3.8\n",
       "\\item 4\n",
       "\\item 4.2\n",
       "\\item 4.4\n",
       "\\item 4.6\n",
       "\\item 4.8\n",
       "\\item 5\n",
       "\\end{enumerate*}\n"
      ],
      "text/markdown": [
       "1. -5\n",
       "2. -4.8\n",
       "3. -4.6\n",
       "4. -4.4\n",
       "5. -4.2\n",
       "6. -4\n",
       "7. -3.8\n",
       "8. -3.6\n",
       "9. -3.4\n",
       "10. -3.2\n",
       "11. -3\n",
       "12. -2.8\n",
       "13. -2.6\n",
       "14. -2.4\n",
       "15. -2.2\n",
       "16. -2\n",
       "17. -1.8\n",
       "18. -1.6\n",
       "19. -1.4\n",
       "20. -1.2\n",
       "21. -1\n",
       "22. -0.8\n",
       "23. -0.6\n",
       "24. -0.399999999999999\n",
       "25. -0.199999999999999\n",
       "26. 0\n",
       "27. 0.2\n",
       "28. 0.4\n",
       "29. 0.600000000000001\n",
       "30. 0.800000000000001\n",
       "31. 1\n",
       "32. 1.2\n",
       "33. 1.4\n",
       "34. 1.6\n",
       "35. 1.8\n",
       "36. 2\n",
       "37. 2.2\n",
       "38. 2.4\n",
       "39. 2.6\n",
       "40. 2.8\n",
       "41. 3\n",
       "42. 3.2\n",
       "43. 3.4\n",
       "44. 3.6\n",
       "45. 3.8\n",
       "46. 4\n",
       "47. 4.2\n",
       "48. 4.4\n",
       "49. 4.6\n",
       "50. 4.8\n",
       "51. 5\n",
       "\n",
       "\n"
      ],
      "text/plain": [
       " [1] -5.0 -4.8 -4.6 -4.4 -4.2 -4.0 -3.8 -3.6 -3.4 -3.2 -3.0 -2.8 -2.6 -2.4 -2.2\n",
       "[16] -2.0 -1.8 -1.6 -1.4 -1.2 -1.0 -0.8 -0.6 -0.4 -0.2  0.0  0.2  0.4  0.6  0.8\n",
       "[31]  1.0  1.2  1.4  1.6  1.8  2.0  2.2  2.4  2.6  2.8  3.0  3.2  3.4  3.6  3.8\n",
       "[46]  4.0  4.2  4.4  4.6  4.8  5.0"
      ]
     },
     "metadata": {},
     "output_type": "display_data"
    }
   ],
   "source": [
    "#  2.3 Generating regular sequences\n",
    "\n",
    "sequence <- seq(-5,5,by=.2) \n",
    "sequence"
   ]
  },
  {
   "cell_type": "code",
   "execution_count": 20,
   "metadata": {},
   "outputs": [
    {
     "data": {
      "text/html": [
       "<ol class=list-inline>\n",
       "\t<li>'x'</li>\n",
       "\t<li>'x'</li>\n",
       "\t<li>'x'</li>\n",
       "\t<li>'x'</li>\n",
       "\t<li>'x'</li>\n",
       "</ol>\n"
      ],
      "text/latex": [
       "\\begin{enumerate*}\n",
       "\\item 'x'\n",
       "\\item 'x'\n",
       "\\item 'x'\n",
       "\\item 'x'\n",
       "\\item 'x'\n",
       "\\end{enumerate*}\n"
      ],
      "text/markdown": [
       "1. 'x'\n",
       "2. 'x'\n",
       "3. 'x'\n",
       "4. 'x'\n",
       "5. 'x'\n",
       "\n",
       "\n"
      ],
      "text/plain": [
       "[1] \"x\" \"x\" \"x\" \"x\" \"x\""
      ]
     },
     "metadata": {},
     "output_type": "display_data"
    }
   ],
   "source": [
    "repeats <- rep('x',time=5)\n",
    "repeats"
   ]
  },
  {
   "cell_type": "markdown",
   "metadata": {},
   "source": [
    "## 🦏 データサイエンス # R言語 練習問題"
   ]
  },
  {
   "cell_type": "code",
   "execution_count": 14,
   "metadata": {},
   "outputs": [
    {
     "data": {
      "text/plain": [
       "   Min. 1st Qu.  Median    Mean 3rd Qu.    Max. \n",
       "   10.0    22.5    35.0    35.0    47.5    60.0 "
      ]
     },
     "metadata": {},
     "output_type": "display_data"
    }
   ],
   "source": [
    "# 🔥1.サマリーを見る\n",
    "\n",
    "List_2 <- c(20,10,60,40,50,30)\n",
    "summary(List_2)"
   ]
  },
  {
   "cell_type": "code",
   "execution_count": 25,
   "metadata": {},
   "outputs": [
    {
     "data": {
      "text/html": [
       "<table>\n",
       "<thead><tr><th></th><th scope=col>りんご</th><th scope=col>たまねぎ</th><th scope=col>にんじん</th></tr></thead>\n",
       "<tbody>\n",
       "\t<tr><th scope=row>A店</th><td>120</td><td>80 </td><td>50 </td></tr>\n",
       "\t<tr><th scope=row>B店</th><td>110</td><td>90 </td><td>45 </td></tr>\n",
       "\t<tr><th scope=row>C店</th><td>150</td><td>85 </td><td>60 </td></tr>\n",
       "</tbody>\n",
       "</table>\n"
      ],
      "text/latex": [
       "\\begin{tabular}{r|lll}\n",
       "  & りんご & たまねぎ & にんじん\\\\\n",
       "\\hline\n",
       "\tA店 & 120 & 80  & 50 \\\\\n",
       "\tB店 & 110 & 90  & 45 \\\\\n",
       "\tC店 & 150 & 85  & 60 \\\\\n",
       "\\end{tabular}\n"
      ],
      "text/markdown": [
       "\n",
       "| <!--/--> | りんご | たまねぎ | にんじん |\n",
       "|---|---|---|---|\n",
       "| A店 | 120 | 80  | 50  |\n",
       "| B店 | 110 | 90  | 45  |\n",
       "| C店 | 150 | 85  | 60  |\n",
       "\n"
      ],
      "text/plain": [
       "    りんご たまねぎ にんじん\n",
       "A店 120    80       50      \n",
       "B店 110    90       45      \n",
       "C店 150    85       60      "
      ]
     },
     "metadata": {},
     "output_type": "display_data"
    }
   ],
   "source": [
    "# 🔥2.apply\n",
    "\n",
    "sample <- read.csv('sample.csv')\n",
    "sample"
   ]
  },
  {
   "cell_type": "code",
   "execution_count": 28,
   "metadata": {},
   "outputs": [
    {
     "data": {
      "text/html": [
       "<dl class=dl-horizontal>\n",
       "\t<dt>A店</dt>\n",
       "\t\t<dd>250</dd>\n",
       "\t<dt>B店</dt>\n",
       "\t\t<dd>245</dd>\n",
       "\t<dt>C店</dt>\n",
       "\t\t<dd>295</dd>\n",
       "</dl>\n"
      ],
      "text/latex": [
       "\\begin{description*}\n",
       "\\item[A店] 250\n",
       "\\item[B店] 245\n",
       "\\item[C店] 295\n",
       "\\end{description*}\n"
      ],
      "text/markdown": [
       "A店\n",
       ":   250B店\n",
       ":   245C店\n",
       ":   295\n",
       "\n"
      ],
      "text/plain": [
       "A店 B店 C店 \n",
       "250 245 295 "
      ]
     },
     "metadata": {},
     "output_type": "display_data"
    }
   ],
   "source": [
    "apply(sample,1,sum) # 引数1で行を合計する"
   ]
  },
  {
   "cell_type": "code",
   "execution_count": 31,
   "metadata": {},
   "outputs": [
    {
     "data": {
      "text/html": [
       "<dl class=dl-horizontal>\n",
       "\t<dt>りんご</dt>\n",
       "\t\t<dd>380</dd>\n",
       "\t<dt>たまねぎ</dt>\n",
       "\t\t<dd>255</dd>\n",
       "\t<dt>にんじん</dt>\n",
       "\t\t<dd>155</dd>\n",
       "</dl>\n"
      ],
      "text/latex": [
       "\\begin{description*}\n",
       "\\item[りんご] 380\n",
       "\\item[たまねぎ] 255\n",
       "\\item[にんじん] 155\n",
       "\\end{description*}\n"
      ],
      "text/markdown": [
       "りんご\n",
       ":   380たまねぎ\n",
       ":   255にんじん\n",
       ":   155\n",
       "\n"
      ],
      "text/plain": [
       "  りんご たまねぎ にんじん \n",
       "     380      255      155 "
      ]
     },
     "metadata": {},
     "output_type": "display_data"
    }
   ],
   "source": [
    "apply(sample,2,sum) # 引数2で列を合計する"
   ]
  },
  {
   "cell_type": "code",
   "execution_count": 38,
   "metadata": {},
   "outputs": [
    {
     "data": {
      "image/png": "[encoded data removed]",
      "text/plain": [
       "plot without title"
      ]
     },
     "metadata": {},
     "output_type": "display_data"
    },
    {
     "data": {
      "image/png": "[encoded data removed]",
      "text/plain": [
       "plot without title"
      ]
     },
     "metadata": {},
     "output_type": "display_data"
    }
   ],
   "source": [
    "# 🔥3.plot\n",
    "\n",
    "x <- 1:10\n",
    "y <- 1:10\n",
    "plot(x,y)\n",
    "plot(x,y,xlim=c(1,10),ylim=c(1,20)) # 軸目盛の指定もできる"
   ]
  },
  {
   "cell_type": "code",
   "execution_count": null,
   "metadata": {},
   "outputs": [],
   "source": [
    "# 🔥4.読み込み\n",
    "\n",
    "# csvから読み込み\n",
    "sample <- read.csv('sample.csv')\n",
    "\n",
    "# クリップボードから読み込み\n",
    "sample <- read.table('clipboard')"
   ]
  },
  {
   "cell_type": "code",
   "execution_count": 1,
   "metadata": {},
   "outputs": [
    {
     "data": {
      "text/html": [
       "<table>\n",
       "<tbody>\n",
       "\t<tr><td>1 </td><td>3 </td><td>5 </td><td>7 </td><td> 9</td></tr>\n",
       "\t<tr><td>2 </td><td>4 </td><td>6 </td><td>8 </td><td>10</td></tr>\n",
       "</tbody>\n",
       "</table>\n"
      ],
      "text/latex": [
       "\\begin{tabular}{lllll}\n",
       "\t 1  & 3  & 5  & 7  &  9\\\\\n",
       "\t 2  & 4  & 6  & 8  & 10\\\\\n",
       "\\end{tabular}\n"
      ],
      "text/markdown": [
       "\n",
       "| 1  | 3  | 5  | 7  |  9 |\n",
       "| 2  | 4  | 6  | 8  | 10 |\n",
       "\n"
      ],
      "text/plain": [
       "     [,1] [,2] [,3] [,4] [,5]\n",
       "[1,] 1    3    5    7     9  \n",
       "[2,] 2    4    6    8    10  "
      ]
     },
     "metadata": {},
     "output_type": "display_data"
    }
   ],
   "source": [
    "# 🔥5.Matrix\n",
    "\n",
    "matrix <- matrix(c(1:10),2,5)\n",
    "matrix"
   ]
  },
  {
   "cell_type": "code",
   "execution_count": 2,
   "metadata": {},
   "outputs": [
    {
     "data": {
      "text/html": [
       "<ol class=list-inline>\n",
       "\t<li>1</li>\n",
       "\t<li>3</li>\n",
       "\t<li>5</li>\n",
       "\t<li>7</li>\n",
       "\t<li>9</li>\n",
       "</ol>\n"
      ],
      "text/latex": [
       "\\begin{enumerate*}\n",
       "\\item 1\n",
       "\\item 3\n",
       "\\item 5\n",
       "\\item 7\n",
       "\\item 9\n",
       "\\end{enumerate*}\n"
      ],
      "text/markdown": [
       "1. 1\n",
       "2. 3\n",
       "3. 5\n",
       "4. 7\n",
       "5. 9\n",
       "\n",
       "\n"
      ],
      "text/plain": [
       "[1] 1 3 5 7 9"
      ]
     },
     "metadata": {},
     "output_type": "display_data"
    }
   ],
   "source": [
    "matrix[1,] # 1行目の取得"
   ]
  },
  {
   "cell_type": "code",
   "execution_count": 3,
   "metadata": {},
   "outputs": [
    {
     "data": {
      "text/html": [
       "<ol class=list-inline>\n",
       "\t<li>2</li>\n",
       "\t<li>4</li>\n",
       "\t<li>6</li>\n",
       "\t<li>8</li>\n",
       "\t<li>10</li>\n",
       "</ol>\n"
      ],
      "text/latex": [
       "\\begin{enumerate*}\n",
       "\\item 2\n",
       "\\item 4\n",
       "\\item 6\n",
       "\\item 8\n",
       "\\item 10\n",
       "\\end{enumerate*}\n"
      ],
      "text/markdown": [
       "1. 2\n",
       "2. 4\n",
       "3. 6\n",
       "4. 8\n",
       "5. 10\n",
       "\n",
       "\n"
      ],
      "text/plain": [
       "[1]  2  4  6  8 10"
      ]
     },
     "metadata": {},
     "output_type": "display_data"
    }
   ],
   "source": [
    "matrix[2,] # 2行目の取得"
   ]
  },
  {
   "cell_type": "code",
   "execution_count": 8,
   "metadata": {},
   "outputs": [
    {
     "data": {
      "text/html": [
       "<ol class=list-inline>\n",
       "\t<li>1</li>\n",
       "\t<li>2</li>\n",
       "</ol>\n"
      ],
      "text/latex": [
       "\\begin{enumerate*}\n",
       "\\item 1\n",
       "\\item 2\n",
       "\\end{enumerate*}\n"
      ],
      "text/markdown": [
       "1. 1\n",
       "2. 2\n",
       "\n",
       "\n"
      ],
      "text/plain": [
       "[1] 1 2"
      ]
     },
     "metadata": {},
     "output_type": "display_data"
    }
   ],
   "source": [
    "matrix[,1] # 1列目の取得"
   ]
  },
  {
   "cell_type": "code",
   "execution_count": 9,
   "metadata": {},
   "outputs": [
    {
     "data": {
      "text/html": [
       "<ol class=list-inline>\n",
       "\t<li>3</li>\n",
       "\t<li>4</li>\n",
       "</ol>\n"
      ],
      "text/latex": [
       "\\begin{enumerate*}\n",
       "\\item 3\n",
       "\\item 4\n",
       "\\end{enumerate*}\n"
      ],
      "text/markdown": [
       "1. 3\n",
       "2. 4\n",
       "\n",
       "\n"
      ],
      "text/plain": [
       "[1] 3 4"
      ]
     },
     "metadata": {},
     "output_type": "display_data"
    }
   ],
   "source": [
    "matrix[,2]  # 2列目の取得"
   ]
  },
  {
   "cell_type": "code",
   "execution_count": 10,
   "metadata": {},
   "outputs": [
    {
     "data": {
      "text/html": [
       "2"
      ],
      "text/latex": [
       "2"
      ],
      "text/markdown": [
       "2"
      ],
      "text/plain": [
       "[1] 2"
      ]
     },
     "metadata": {},
     "output_type": "display_data"
    }
   ],
   "source": [
    "nrow(matrix) # 行数を返す"
   ]
  },
  {
   "cell_type": "code",
   "execution_count": 11,
   "metadata": {
    "scrolled": true
   },
   "outputs": [
    {
     "data": {
      "text/html": [
       "5"
      ],
      "text/latex": [
       "5"
      ],
      "text/markdown": [
       "5"
      ],
      "text/plain": [
       "[1] 5"
      ]
     },
     "metadata": {},
     "output_type": "display_data"
    }
   ],
   "source": [
    "ncol(matrix) # 列数を返す"
   ]
  },
  {
   "cell_type": "code",
   "execution_count": 16,
   "metadata": {},
   "outputs": [
    {
     "data": {
      "text/html": [
       "<table>\n",
       "<tbody>\n",
       "\t<tr><td>1 </td><td>2 </td><td>3 </td><td>4 </td><td> 5</td></tr>\n",
       "\t<tr><td>6 </td><td>7 </td><td>8 </td><td>9 </td><td>10</td></tr>\n",
       "</tbody>\n",
       "</table>\n"
      ],
      "text/latex": [
       "\\begin{tabular}{lllll}\n",
       "\t 1  & 2  & 3  & 4  &  5\\\\\n",
       "\t 6  & 7  & 8  & 9  & 10\\\\\n",
       "\\end{tabular}\n"
      ],
      "text/markdown": [
       "\n",
       "| 1  | 2  | 3  | 4  |  5 |\n",
       "| 6  | 7  | 8  | 9  | 10 |\n",
       "\n"
      ],
      "text/plain": [
       "     [,1] [,2] [,3] [,4] [,5]\n",
       "[1,] 1    2    3    4     5  \n",
       "[2,] 6    7    8    9    10  "
      ]
     },
     "metadata": {},
     "output_type": "display_data"
    }
   ],
   "source": [
    "matrixT <- matrix(matrix,2,byrow=TRUE) # 転置(数値は行数)\n",
    "matrixT"
   ]
  },
  {
   "cell_type": "code",
   "execution_count": 34,
   "metadata": {},
   "outputs": [
    {
     "data": {
      "text/html": [
       "<table>\n",
       "<tbody>\n",
       "\t<tr><td>2</td><td>1</td><td>3</td></tr>\n",
       "\t<tr><td>4</td><td>5</td><td>3</td></tr>\n",
       "\t<tr><td>7</td><td>9</td><td>6</td></tr>\n",
       "</tbody>\n",
       "</table>\n"
      ],
      "text/latex": [
       "\\begin{tabular}{lll}\n",
       "\t 2 & 1 & 3\\\\\n",
       "\t 4 & 5 & 3\\\\\n",
       "\t 7 & 9 & 6\\\\\n",
       "\\end{tabular}\n"
      ],
      "text/markdown": [
       "\n",
       "| 2 | 1 | 3 |\n",
       "| 4 | 5 | 3 |\n",
       "| 7 | 9 | 6 |\n",
       "\n"
      ],
      "text/plain": [
       "     [,1] [,2] [,3]\n",
       "[1,] 2    1    3   \n",
       "[2,] 4    5    3   \n",
       "[3,] 7    9    6   "
      ]
     },
     "metadata": {},
     "output_type": "display_data"
    }
   ],
   "source": [
    "matrix2 <- matrix(c(2,4,7,1,5,9,3,3,6),3)\n",
    "matrix2"
   ]
  },
  {
   "cell_type": "code",
   "execution_count": 35,
   "metadata": {
    "scrolled": true
   },
   "outputs": [
    {
     "data": {
      "text/html": [
       "<table>\n",
       "<tbody>\n",
       "\t<tr><td> 0.5000000</td><td> 3.500000 </td><td>-2        </td></tr>\n",
       "\t<tr><td>-0.5000000</td><td>-1.500000 </td><td> 1        </td></tr>\n",
       "\t<tr><td> 0.1666667</td><td>-1.833333 </td><td> 1        </td></tr>\n",
       "</tbody>\n",
       "</table>\n"
      ],
      "text/latex": [
       "\\begin{tabular}{lll}\n",
       "\t  0.5000000 &  3.500000  & -2        \\\\\n",
       "\t -0.5000000 & -1.500000  &  1        \\\\\n",
       "\t  0.1666667 & -1.833333  &  1        \\\\\n",
       "\\end{tabular}\n"
      ],
      "text/markdown": [
       "\n",
       "|  0.5000000 |  3.500000  | -2         |\n",
       "| -0.5000000 | -1.500000  |  1         |\n",
       "|  0.1666667 | -1.833333  |  1         |\n",
       "\n"
      ],
      "text/plain": [
       "     [,1]       [,2]      [,3]\n",
       "[1,]  0.5000000  3.500000 -2  \n",
       "[2,] -0.5000000 -1.500000  1  \n",
       "[3,]  0.1666667 -1.833333  1  "
      ]
     },
     "metadata": {},
     "output_type": "display_data"
    }
   ],
   "source": [
    "solve(matrix2) # 逆行列を求める"
   ]
  },
  {
   "cell_type": "code",
   "execution_count": 36,
   "metadata": {},
   "outputs": [
    {
     "data": {
      "text/html": [
       "<table>\n",
       "<thead><tr><th scope=col>shohin_id</th><th scope=col>shohin_mei</th><th scope=col>shohin_bunrui</th><th scope=col>hanbai_tanka</th><th scope=col>shiire_tanka</th><th scope=col>torokubi</th></tr></thead>\n",
       "<tbody>\n",
       "\t<tr><td>1             </td><td>Tシャツ       </td><td>衣服          </td><td>1000          </td><td> 500          </td><td>2009-09-20    </td></tr>\n",
       "\t<tr><td>3             </td><td>カッターシャツ</td><td>衣服          </td><td>4000          </td><td>2800          </td><td>              </td></tr>\n",
       "\t<tr><td>4             </td><td>包丁          </td><td>キッチン用品  </td><td>3000          </td><td>2800          </td><td>2009-09-20    </td></tr>\n",
       "\t<tr><td>5             </td><td>圧力鍋        </td><td>キッチン用品  </td><td>6800          </td><td>5000          </td><td>2009-01-15    </td></tr>\n",
       "\t<tr><td>6             </td><td>フォーク      </td><td>キッチン用品  </td><td> 500          </td><td>  NA          </td><td>2009-09-20    </td></tr>\n",
       "\t<tr><td>7             </td><td>おろしがね    </td><td>キッチン用品  </td><td> 880          </td><td> 790          </td><td>2009-04-28    </td></tr>\n",
       "\t<tr><td>8             </td><td>ボールペン    </td><td>事務用品      </td><td> 100          </td><td>  NA          </td><td>2009-11-11    </td></tr>\n",
       "\t<tr><td>2             </td><td>穴あけパンチ  </td><td>事務用品      </td><td> 500          </td><td> 320          </td><td>2009-09-11    </td></tr>\n",
       "</tbody>\n",
       "</table>\n"
      ],
      "text/latex": [
       "\\begin{tabular}{r|llllll}\n",
       " shohin\\_id & shohin\\_mei & shohin\\_bunrui & hanbai\\_tanka & shiire\\_tanka & torokubi\\\\\n",
       "\\hline\n",
       "\t 1              & Tシャツ        & 衣服           & 1000           &  500           & 2009-09-20    \\\\\n",
       "\t 3              & カッターシャツ & 衣服           & 4000           & 2800           &               \\\\\n",
       "\t 4              & 包丁           & キッチン用品   & 3000           & 2800           & 2009-09-20    \\\\\n",
       "\t 5              & 圧力鍋         & キッチン用品   & 6800           & 5000           & 2009-01-15    \\\\\n",
       "\t 6              & フォーク       & キッチン用品   &  500           &   NA           & 2009-09-20    \\\\\n",
       "\t 7              & おろしがね     & キッチン用品   &  880           &  790           & 2009-04-28    \\\\\n",
       "\t 8              & ボールペン     & 事務用品       &  100           &   NA           & 2009-11-11    \\\\\n",
       "\t 2              & 穴あけパンチ   & 事務用品       &  500           &  320           & 2009-09-11    \\\\\n",
       "\\end{tabular}\n"
      ],
      "text/markdown": [
       "\n",
       "| shohin_id | shohin_mei | shohin_bunrui | hanbai_tanka | shiire_tanka | torokubi |\n",
       "|---|---|---|---|---|---|\n",
       "| 1              | Tシャツ        | 衣服           | 1000           |  500           | 2009-09-20     |\n",
       "| 3              | カッターシャツ | 衣服           | 4000           | 2800           |                |\n",
       "| 4              | 包丁           | キッチン用品   | 3000           | 2800           | 2009-09-20     |\n",
       "| 5              | 圧力鍋         | キッチン用品   | 6800           | 5000           | 2009-01-15     |\n",
       "| 6              | フォーク       | キッチン用品   |  500           |   NA           | 2009-09-20     |\n",
       "| 7              | おろしがね     | キッチン用品   |  880           |  790           | 2009-04-28     |\n",
       "| 8              | ボールペン     | 事務用品       |  100           |   NA           | 2009-11-11     |\n",
       "| 2              | 穴あけパンチ   | 事務用品       |  500           |  320           | 2009-09-11     |\n",
       "\n"
      ],
      "text/plain": [
       "  shohin_id shohin_mei     shohin_bunrui hanbai_tanka shiire_tanka torokubi  \n",
       "1 1         Tシャツ        衣服          1000          500         2009-09-20\n",
       "2 3         カッターシャツ 衣服          4000         2800                   \n",
       "3 4         包丁           キッチン用品  3000         2800         2009-09-20\n",
       "4 5         圧力鍋         キッチン用品  6800         5000         2009-01-15\n",
       "5 6         フォーク       キッチン用品   500           NA         2009-09-20\n",
       "6 7         おろしがね     キッチン用品   880          790         2009-04-28\n",
       "7 8         ボールペン     事務用品       100           NA         2009-11-11\n",
       "8 2         穴あけパンチ   事務用品       500          320         2009-09-11"
      ]
     },
     "metadata": {},
     "output_type": "display_data"
    }
   ],
   "source": [
    "# 🔥6.データへのアクセス ($/subset)\n",
    "\n",
    "sample <- read.csv('shohin.csv')\n",
    "sample"
   ]
  },
  {
   "cell_type": "code",
   "execution_count": 37,
   "metadata": {},
   "outputs": [
    {
     "data": {
      "text/html": [
       "<table>\n",
       "<thead><tr><th scope=col>shohin_id</th><th scope=col>shohin_mei</th><th scope=col>shohin_bunrui</th><th scope=col>hanbai_tanka</th><th scope=col>shiire_tanka</th><th scope=col>torokubi</th></tr></thead>\n",
       "<tbody>\n",
       "\t<tr><td>1         </td><td>Tシャツ   </td><td>衣服      </td><td>1000      </td><td>500       </td><td>2009-09-20</td></tr>\n",
       "</tbody>\n",
       "</table>\n"
      ],
      "text/latex": [
       "\\begin{tabular}{r|llllll}\n",
       " shohin\\_id & shohin\\_mei & shohin\\_bunrui & hanbai\\_tanka & shiire\\_tanka & torokubi\\\\\n",
       "\\hline\n",
       "\t 1          & Tシャツ    & 衣服       & 1000       & 500        & 2009-09-20\\\\\n",
       "\\end{tabular}\n"
      ],
      "text/markdown": [
       "\n",
       "| shohin_id | shohin_mei | shohin_bunrui | hanbai_tanka | shiire_tanka | torokubi |\n",
       "|---|---|---|---|---|---|\n",
       "| 1          | Tシャツ    | 衣服       | 1000       | 500        | 2009-09-20 |\n",
       "\n"
      ],
      "text/plain": [
       "  shohin_id shohin_mei shohin_bunrui hanbai_tanka shiire_tanka torokubi  \n",
       "1 1         Tシャツ    衣服          1000         500          2009-09-20"
      ]
     },
     "metadata": {},
     "output_type": "display_data"
    }
   ],
   "source": [
    "sample[1,] # 1行目を参照"
   ]
  },
  {
   "cell_type": "code",
   "execution_count": 38,
   "metadata": {},
   "outputs": [
    {
     "data": {
      "text/html": [
       "<table>\n",
       "<thead><tr><th></th><th scope=col>shohin_id</th><th scope=col>shohin_mei</th><th scope=col>shohin_bunrui</th><th scope=col>hanbai_tanka</th><th scope=col>shiire_tanka</th><th scope=col>torokubi</th></tr></thead>\n",
       "<tbody>\n",
       "\t<tr><th scope=row>2</th><td>3             </td><td>カッターシャツ</td><td>衣服          </td><td>4000          </td><td>2800          </td><td>              </td></tr>\n",
       "</tbody>\n",
       "</table>\n"
      ],
      "text/latex": [
       "\\begin{tabular}{r|llllll}\n",
       "  & shohin\\_id & shohin\\_mei & shohin\\_bunrui & hanbai\\_tanka & shiire\\_tanka & torokubi\\\\\n",
       "\\hline\n",
       "\t2 & 3              & カッターシャツ & 衣服           & 4000           & 2800           &               \\\\\n",
       "\\end{tabular}\n"
      ],
      "text/markdown": [
       "\n",
       "| <!--/--> | shohin_id | shohin_mei | shohin_bunrui | hanbai_tanka | shiire_tanka | torokubi |\n",
       "|---|---|---|---|---|---|---|\n",
       "| 2 | 3              | カッターシャツ | 衣服           | 4000           | 2800           |                |\n",
       "\n"
      ],
      "text/plain": [
       "  shohin_id shohin_mei     shohin_bunrui hanbai_tanka shiire_tanka torokubi\n",
       "2 3         カッターシャツ 衣服          4000         2800                 "
      ]
     },
     "metadata": {},
     "output_type": "display_data"
    }
   ],
   "source": [
    "sample[2,] # 2行目を参照"
   ]
  },
  {
   "cell_type": "code",
   "execution_count": 39,
   "metadata": {},
   "outputs": [
    {
     "data": {
      "text/html": [
       "<ol class=list-inline>\n",
       "\t<li>1</li>\n",
       "\t<li>3</li>\n",
       "\t<li>4</li>\n",
       "\t<li>5</li>\n",
       "\t<li>6</li>\n",
       "\t<li>7</li>\n",
       "\t<li>8</li>\n",
       "\t<li>2</li>\n",
       "</ol>\n"
      ],
      "text/latex": [
       "\\begin{enumerate*}\n",
       "\\item 1\n",
       "\\item 3\n",
       "\\item 4\n",
       "\\item 5\n",
       "\\item 6\n",
       "\\item 7\n",
       "\\item 8\n",
       "\\item 2\n",
       "\\end{enumerate*}\n"
      ],
      "text/markdown": [
       "1. 1\n",
       "2. 3\n",
       "3. 4\n",
       "4. 5\n",
       "5. 6\n",
       "6. 7\n",
       "7. 8\n",
       "8. 2\n",
       "\n",
       "\n"
      ],
      "text/plain": [
       "[1] 1 3 4 5 6 7 8 2"
      ]
     },
     "metadata": {},
     "output_type": "display_data"
    }
   ],
   "source": [
    "sample[,1] # 1列目を参照"
   ]
  },
  {
   "cell_type": "code",
   "execution_count": 40,
   "metadata": {},
   "outputs": [
    {
     "data": {
      "text/html": [
       "<ol class=list-inline>\n",
       "\t<li>Tシャツ</li>\n",
       "\t<li>カッターシャツ</li>\n",
       "\t<li>包丁</li>\n",
       "\t<li>圧力鍋</li>\n",
       "\t<li>フォーク</li>\n",
       "\t<li>おろしがね</li>\n",
       "\t<li>ボールペン</li>\n",
       "\t<li>穴あけパンチ</li>\n",
       "</ol>\n",
       "\n",
       "<details>\n",
       "\t<summary style=display:list-item;cursor:pointer>\n",
       "\t\t<strong>Levels</strong>:\n",
       "\t</summary>\n",
       "\t<ol class=list-inline>\n",
       "\t\t<li>'Tシャツ'</li>\n",
       "\t\t<li>'おろしがね'</li>\n",
       "\t\t<li>'カッターシャツ'</li>\n",
       "\t\t<li>'フォーク'</li>\n",
       "\t\t<li>'ボールペン'</li>\n",
       "\t\t<li>'圧力鍋'</li>\n",
       "\t\t<li>'穴あけパンチ'</li>\n",
       "\t\t<li>'包丁'</li>\n",
       "\t</ol>\n",
       "</details>"
      ],
      "text/latex": [
       "\\begin{enumerate*}\n",
       "\\item Tシャツ\n",
       "\\item カッターシャツ\n",
       "\\item 包丁\n",
       "\\item 圧力鍋\n",
       "\\item フォーク\n",
       "\\item おろしがね\n",
       "\\item ボールペン\n",
       "\\item 穴あけパンチ\n",
       "\\end{enumerate*}\n",
       "\n",
       "\\emph{Levels}: \\begin{enumerate*}\n",
       "\\item 'Tシャツ'\n",
       "\\item 'おろしがね'\n",
       "\\item 'カッターシャツ'\n",
       "\\item 'フォーク'\n",
       "\\item 'ボールペン'\n",
       "\\item '圧力鍋'\n",
       "\\item '穴あけパンチ'\n",
       "\\item '包丁'\n",
       "\\end{enumerate*}\n"
      ],
      "text/markdown": [
       "1. Tシャツ\n",
       "2. カッターシャツ\n",
       "3. 包丁\n",
       "4. 圧力鍋\n",
       "5. フォーク\n",
       "6. おろしがね\n",
       "7. ボールペン\n",
       "8. 穴あけパンチ\n",
       "\n",
       "\n",
       "\n",
       "**Levels**: 1. 'Tシャツ'\n",
       "2. 'おろしがね'\n",
       "3. 'カッターシャツ'\n",
       "4. 'フォーク'\n",
       "5. 'ボールペン'\n",
       "6. '圧力鍋'\n",
       "7. '穴あけパンチ'\n",
       "8. '包丁'\n",
       "\n",
       "\n"
      ],
      "text/plain": [
       "[1] Tシャツ        カッターシャツ 包丁           圧力鍋         フォーク      \n",
       "[6] おろしがね     ボールペン     穴あけパンチ  \n",
       "8 Levels: Tシャツ おろしがね カッターシャツ フォーク ボールペン ... 包丁"
      ]
     },
     "metadata": {},
     "output_type": "display_data"
    }
   ],
   "source": [
    "sample[,2] # 2列目を参照"
   ]
  },
  {
   "cell_type": "code",
   "execution_count": 42,
   "metadata": {},
   "outputs": [
    {
     "data": {
      "text/html": [
       "<ol class=list-inline>\n",
       "\t<li>衣服</li>\n",
       "\t<li>衣服</li>\n",
       "\t<li>キッチン用品</li>\n",
       "\t<li>キッチン用品</li>\n",
       "\t<li>キッチン用品</li>\n",
       "\t<li>キッチン用品</li>\n",
       "\t<li>事務用品</li>\n",
       "\t<li>事務用品</li>\n",
       "</ol>\n",
       "\n",
       "<details>\n",
       "\t<summary style=display:list-item;cursor:pointer>\n",
       "\t\t<strong>Levels</strong>:\n",
       "\t</summary>\n",
       "\t<ol class=list-inline>\n",
       "\t\t<li>'キッチン用品'</li>\n",
       "\t\t<li>'衣服'</li>\n",
       "\t\t<li>'事務用品'</li>\n",
       "\t</ol>\n",
       "</details>"
      ],
      "text/latex": [
       "\\begin{enumerate*}\n",
       "\\item 衣服\n",
       "\\item 衣服\n",
       "\\item キッチン用品\n",
       "\\item キッチン用品\n",
       "\\item キッチン用品\n",
       "\\item キッチン用品\n",
       "\\item 事務用品\n",
       "\\item 事務用品\n",
       "\\end{enumerate*}\n",
       "\n",
       "\\emph{Levels}: \\begin{enumerate*}\n",
       "\\item 'キッチン用品'\n",
       "\\item '衣服'\n",
       "\\item '事務用品'\n",
       "\\end{enumerate*}\n"
      ],
      "text/markdown": [
       "1. 衣服\n",
       "2. 衣服\n",
       "3. キッチン用品\n",
       "4. キッチン用品\n",
       "5. キッチン用品\n",
       "6. キッチン用品\n",
       "7. 事務用品\n",
       "8. 事務用品\n",
       "\n",
       "\n",
       "\n",
       "**Levels**: 1. 'キッチン用品'\n",
       "2. '衣服'\n",
       "3. '事務用品'\n",
       "\n",
       "\n"
      ],
      "text/plain": [
       "[1] 衣服         衣服         キッチン用品 キッチン用品 キッチン用品\n",
       "[6] キッチン用品 事務用品     事務用品    \n",
       "Levels: キッチン用品 衣服 事務用品"
      ]
     },
     "metadata": {},
     "output_type": "display_data"
    }
   ],
   "source": [
    "sample$shohin_bunrui # 指定の列名にアクセスする"
   ]
  },
  {
   "cell_type": "code",
   "execution_count": 44,
   "metadata": {},
   "outputs": [
    {
     "data": {
      "text/html": [
       "<table>\n",
       "<thead><tr><th></th><th scope=col>shohin_id</th><th scope=col>shohin_mei</th><th scope=col>shohin_bunrui</th><th scope=col>hanbai_tanka</th><th scope=col>shiire_tanka</th><th scope=col>torokubi</th></tr></thead>\n",
       "<tbody>\n",
       "\t<tr><th scope=row>3</th><td>4           </td><td>包丁        </td><td>キッチン用品</td><td>3000        </td><td>2800        </td><td>2009-09-20  </td></tr>\n",
       "\t<tr><th scope=row>4</th><td>5           </td><td>圧力鍋      </td><td>キッチン用品</td><td>6800        </td><td>5000        </td><td>2009-01-15  </td></tr>\n",
       "\t<tr><th scope=row>5</th><td>6           </td><td>フォーク    </td><td>キッチン用品</td><td> 500        </td><td>  NA        </td><td>2009-09-20  </td></tr>\n",
       "\t<tr><th scope=row>6</th><td>7           </td><td>おろしがね  </td><td>キッチン用品</td><td> 880        </td><td> 790        </td><td>2009-04-28  </td></tr>\n",
       "</tbody>\n",
       "</table>\n"
      ],
      "text/latex": [
       "\\begin{tabular}{r|llllll}\n",
       "  & shohin\\_id & shohin\\_mei & shohin\\_bunrui & hanbai\\_tanka & shiire\\_tanka & torokubi\\\\\n",
       "\\hline\n",
       "\t3 & 4            & 包丁         & キッチン用品 & 3000         & 2800         & 2009-09-20  \\\\\n",
       "\t4 & 5            & 圧力鍋       & キッチン用品 & 6800         & 5000         & 2009-01-15  \\\\\n",
       "\t5 & 6            & フォーク     & キッチン用品 &  500         &   NA         & 2009-09-20  \\\\\n",
       "\t6 & 7            & おろしがね   & キッチン用品 &  880         &  790         & 2009-04-28  \\\\\n",
       "\\end{tabular}\n"
      ],
      "text/markdown": [
       "\n",
       "| <!--/--> | shohin_id | shohin_mei | shohin_bunrui | hanbai_tanka | shiire_tanka | torokubi |\n",
       "|---|---|---|---|---|---|---|\n",
       "| 3 | 4            | 包丁         | キッチン用品 | 3000         | 2800         | 2009-09-20   |\n",
       "| 4 | 5            | 圧力鍋       | キッチン用品 | 6800         | 5000         | 2009-01-15   |\n",
       "| 5 | 6            | フォーク     | キッチン用品 |  500         |   NA         | 2009-09-20   |\n",
       "| 6 | 7            | おろしがね   | キッチン用品 |  880         |  790         | 2009-04-28   |\n",
       "\n"
      ],
      "text/plain": [
       "  shohin_id shohin_mei shohin_bunrui hanbai_tanka shiire_tanka torokubi  \n",
       "3 4         包丁       キッチン用品  3000         2800         2009-09-20\n",
       "4 5         圧力鍋     キッチン用品  6800         5000         2009-01-15\n",
       "5 6         フォーク   キッチン用品   500           NA         2009-09-20\n",
       "6 7         おろしがね キッチン用品   880          790         2009-04-28"
      ]
     },
     "metadata": {},
     "output_type": "display_data"
    }
   ],
   "source": [
    "kitchen <- subset(sample,sample$shohin_bunrui=='キッチン用品') # 条件を付けてデータを取り出す\n",
    "kitchen"
   ]
  },
  {
   "cell_type": "code",
   "execution_count": 45,
   "metadata": {},
   "outputs": [
    {
     "data": {
      "text/html": [
       "<table>\n",
       "<thead><tr><th scope=col>shohin_id</th><th scope=col>shohin_mei</th><th scope=col>shohin_bunrui</th><th scope=col>hanbai_tanka</th><th scope=col>shiire_tanka</th><th scope=col>torokubi</th></tr></thead>\n",
       "<tbody>\n",
       "\t<tr><td>1             </td><td>Tシャツ       </td><td>衣服          </td><td>1000          </td><td> 500          </td><td>2009-09-20    </td></tr>\n",
       "\t<tr><td>3             </td><td>カッターシャツ</td><td>衣服          </td><td>4000          </td><td>2800          </td><td>              </td></tr>\n",
       "\t<tr><td>4             </td><td>包丁          </td><td>キッチン用品  </td><td>3000          </td><td>2800          </td><td>2009-09-20    </td></tr>\n",
       "\t<tr><td>5             </td><td>圧力鍋        </td><td>キッチン用品  </td><td>6800          </td><td>5000          </td><td>2009-01-15    </td></tr>\n",
       "</tbody>\n",
       "</table>\n"
      ],
      "text/latex": [
       "\\begin{tabular}{r|llllll}\n",
       " shohin\\_id & shohin\\_mei & shohin\\_bunrui & hanbai\\_tanka & shiire\\_tanka & torokubi\\\\\n",
       "\\hline\n",
       "\t 1              & Tシャツ        & 衣服           & 1000           &  500           & 2009-09-20    \\\\\n",
       "\t 3              & カッターシャツ & 衣服           & 4000           & 2800           &               \\\\\n",
       "\t 4              & 包丁           & キッチン用品   & 3000           & 2800           & 2009-09-20    \\\\\n",
       "\t 5              & 圧力鍋         & キッチン用品   & 6800           & 5000           & 2009-01-15    \\\\\n",
       "\\end{tabular}\n"
      ],
      "text/markdown": [
       "\n",
       "| shohin_id | shohin_mei | shohin_bunrui | hanbai_tanka | shiire_tanka | torokubi |\n",
       "|---|---|---|---|---|---|\n",
       "| 1              | Tシャツ        | 衣服           | 1000           |  500           | 2009-09-20     |\n",
       "| 3              | カッターシャツ | 衣服           | 4000           | 2800           |                |\n",
       "| 4              | 包丁           | キッチン用品   | 3000           | 2800           | 2009-09-20     |\n",
       "| 5              | 圧力鍋         | キッチン用品   | 6800           | 5000           | 2009-01-15     |\n",
       "\n"
      ],
      "text/plain": [
       "  shohin_id shohin_mei     shohin_bunrui hanbai_tanka shiire_tanka torokubi  \n",
       "1 1         Tシャツ        衣服          1000          500         2009-09-20\n",
       "2 3         カッターシャツ 衣服          4000         2800                   \n",
       "3 4         包丁           キッチン用品  3000         2800         2009-09-20\n",
       "4 5         圧力鍋         キッチン用品  6800         5000         2009-01-15"
      ]
     },
     "metadata": {},
     "output_type": "display_data"
    }
   ],
   "source": [
    "tanka <- subset(sample,sample$hanbai_tanka >= 1000)\n",
    "tanka"
   ]
  },
  {
   "cell_type": "code",
   "execution_count": 58,
   "metadata": {},
   "outputs": [
    {
     "data": {
      "text/plain": [
       "\n",
       "Call:\n",
       "lm(formula = y ~ x)\n",
       "\n",
       "Coefficients:\n",
       "(Intercept)            x  \n",
       "     10.012        2.418  \n"
      ]
     },
     "metadata": {},
     "output_type": "display_data"
    }
   ],
   "source": [
    "# 🔥単回帰分析（lm/summary）\n",
    "\n",
    "x <- c(1,3,4,10,5,1,3,14,21)\n",
    "y <- c(10,20,10,40,50,10,10,20,70)\n",
    "ans <- lm(y~x)\n",
    "ans"
   ]
  },
  {
   "cell_type": "code",
   "execution_count": 60,
   "metadata": {},
   "outputs": [
    {
     "data": {
      "text/plain": [
       "\n",
       "Call:\n",
       "lm(formula = y ~ x)\n",
       "\n",
       "Residuals:\n",
       "    Min      1Q  Median      3Q     Max \n",
       "-23.859  -7.265  -2.430   5.812  27.900 \n",
       "\n",
       "Coefficients:\n",
       "            Estimate Std. Error t value Pr(>|t|)  \n",
       "(Intercept)  10.0120     7.4661   1.341   0.2218  \n",
       "x             2.4176     0.7929   3.049   0.0186 *\n",
       "---\n",
       "Signif. codes:  0 ‘***’ 0.001 ‘**’ 0.01 ‘*’ 0.05 ‘.’ 0.1 ‘ ’ 1\n",
       "\n",
       "Residual standard error: 15.27 on 7 degrees of freedom\n",
       "Multiple R-squared:  0.5705,\tAdjusted R-squared:  0.5091 \n",
       "F-statistic: 9.297 on 1 and 7 DF,  p-value: 0.01861\n"
      ]
     },
     "metadata": {},
     "output_type": "display_data"
    }
   ],
   "source": [
    "summary(ans)"
   ]
  },
  {
   "cell_type": "markdown",
   "metadata": {},
   "source": [
    "### 項目の意味\n",
    "> Estimate：その回帰分析による、回帰係数の推定値（推定値の実現値）\n",
    "\n",
    "> Multiple R-squared：決定係数R^2であり、単回帰分析の場合は、xとyの相関係数の2乗がこれを表している\n",
    "\n",
    "> Pr(>|t|)：p値。回帰係数が0（説明変数は目的変数に影響を与えない）であるという帰無仮説に対する仮設検定結果のp値\n",
    "\n",
    "> Residual standard error：誤差項の標準偏差の推定値\n",
    "\n",
    "> std.Error：各回帰係数の推定量の標準誤差\n",
    "\n",
    "> t value：t値。回帰係数=0（説明変数は目的変数に影響を与えない）であるという帰無仮説に対するt検定によって計算される値"
   ]
  },
  {
   "cell_type": "code",
   "execution_count": 62,
   "metadata": {},
   "outputs": [
    {
     "data": {
      "image/png": "[encoded data removed]",
      "text/plain": [
       "plot without title"
      ]
     },
     "metadata": {},
     "output_type": "display_data"
    }
   ],
   "source": [
    "# 🔥回帰直線のプロット\n",
    "\n",
    "x <- c(1,2,3,2,7,5,9,1)\n",
    "y <- c(14,20,21,15,36,27,40,8)\n",
    "ans <- lm(y~x) # 単回帰分析を行なう\n",
    "plot(x,y)\n",
    "lines(x,fitted(ans),col='red') # 赤線で回帰直線をプロット"
   ]
  },
  {
   "cell_type": "code",
   "execution_count": 2,
   "metadata": {},
   "outputs": [
    {
     "data": {
      "text/html": [
       "<table>\n",
       "<thead><tr><th scope=col>shohin_id</th><th scope=col>shohin_mei</th><th scope=col>shohin_bunrui</th><th scope=col>hanbai_tanka</th><th scope=col>shiire_tanka</th><th scope=col>torokubi</th></tr></thead>\n",
       "<tbody>\n",
       "\t<tr><td>1             </td><td>Tシャツ       </td><td>衣服          </td><td>1000          </td><td> 500          </td><td>2009-09-20    </td></tr>\n",
       "\t<tr><td>3             </td><td>カッターシャツ</td><td>衣服          </td><td>4000          </td><td>2800          </td><td>              </td></tr>\n",
       "\t<tr><td>4             </td><td>包丁          </td><td>キッチン用品  </td><td>3000          </td><td>2800          </td><td>2009-09-20    </td></tr>\n",
       "\t<tr><td>5             </td><td>圧力鍋        </td><td>キッチン用品  </td><td>6800          </td><td>5000          </td><td>2009-01-15    </td></tr>\n",
       "\t<tr><td>6             </td><td>フォーク      </td><td>キッチン用品  </td><td> 500          </td><td>  NA          </td><td>2009-09-20    </td></tr>\n",
       "\t<tr><td>7             </td><td>おろしがね    </td><td>キッチン用品  </td><td> 880          </td><td> 790          </td><td>2009-04-28    </td></tr>\n",
       "\t<tr><td>8             </td><td>ボールペン    </td><td>事務用品      </td><td> 100          </td><td>  NA          </td><td>2009-11-11    </td></tr>\n",
       "\t<tr><td>2             </td><td>穴あけパンチ  </td><td>事務用品      </td><td> 500          </td><td> 320          </td><td>2009-09-11    </td></tr>\n",
       "</tbody>\n",
       "</table>\n"
      ],
      "text/latex": [
       "\\begin{tabular}{r|llllll}\n",
       " shohin\\_id & shohin\\_mei & shohin\\_bunrui & hanbai\\_tanka & shiire\\_tanka & torokubi\\\\\n",
       "\\hline\n",
       "\t 1              & Tシャツ        & 衣服           & 1000           &  500           & 2009-09-20    \\\\\n",
       "\t 3              & カッターシャツ & 衣服           & 4000           & 2800           &               \\\\\n",
       "\t 4              & 包丁           & キッチン用品   & 3000           & 2800           & 2009-09-20    \\\\\n",
       "\t 5              & 圧力鍋         & キッチン用品   & 6800           & 5000           & 2009-01-15    \\\\\n",
       "\t 6              & フォーク       & キッチン用品   &  500           &   NA           & 2009-09-20    \\\\\n",
       "\t 7              & おろしがね     & キッチン用品   &  880           &  790           & 2009-04-28    \\\\\n",
       "\t 8              & ボールペン     & 事務用品       &  100           &   NA           & 2009-11-11    \\\\\n",
       "\t 2              & 穴あけパンチ   & 事務用品       &  500           &  320           & 2009-09-11    \\\\\n",
       "\\end{tabular}\n"
      ],
      "text/markdown": [
       "\n",
       "| shohin_id | shohin_mei | shohin_bunrui | hanbai_tanka | shiire_tanka | torokubi |\n",
       "|---|---|---|---|---|---|\n",
       "| 1              | Tシャツ        | 衣服           | 1000           |  500           | 2009-09-20     |\n",
       "| 3              | カッターシャツ | 衣服           | 4000           | 2800           |                |\n",
       "| 4              | 包丁           | キッチン用品   | 3000           | 2800           | 2009-09-20     |\n",
       "| 5              | 圧力鍋         | キッチン用品   | 6800           | 5000           | 2009-01-15     |\n",
       "| 6              | フォーク       | キッチン用品   |  500           |   NA           | 2009-09-20     |\n",
       "| 7              | おろしがね     | キッチン用品   |  880           |  790           | 2009-04-28     |\n",
       "| 8              | ボールペン     | 事務用品       |  100           |   NA           | 2009-11-11     |\n",
       "| 2              | 穴あけパンチ   | 事務用品       |  500           |  320           | 2009-09-11     |\n",
       "\n"
      ],
      "text/plain": [
       "  shohin_id shohin_mei     shohin_bunrui hanbai_tanka shiire_tanka torokubi  \n",
       "1 1         Tシャツ        衣服          1000          500         2009-09-20\n",
       "2 3         カッターシャツ 衣服          4000         2800                   \n",
       "3 4         包丁           キッチン用品  3000         2800         2009-09-20\n",
       "4 5         圧力鍋         キッチン用品  6800         5000         2009-01-15\n",
       "5 6         フォーク       キッチン用品   500           NA         2009-09-20\n",
       "6 7         おろしがね     キッチン用品   880          790         2009-04-28\n",
       "7 8         ボールペン     事務用品       100           NA         2009-11-11\n",
       "8 2         穴あけパンチ   事務用品       500          320         2009-09-11"
      ]
     },
     "metadata": {},
     "output_type": "display_data"
    }
   ],
   "source": [
    "# 🔥7.table(要素数のカウント)\n",
    "\n",
    "sample <- read.csv('shohin.csv')\n",
    "sample"
   ]
  },
  {
   "cell_type": "code",
   "execution_count": 3,
   "metadata": {},
   "outputs": [
    {
     "data": {
      "text/plain": [
       "\n",
       "キッチン用品         衣服     事務用品 \n",
       "           4            2            2 "
      ]
     },
     "metadata": {},
     "output_type": "display_data"
    }
   ],
   "source": [
    "table(sample$shohin_bunrui)"
   ]
  },
  {
   "cell_type": "code",
   "execution_count": 4,
   "metadata": {},
   "outputs": [
    {
     "data": {
      "text/plain": [
       "\n",
       "           2009-01-15 2009-04-28 2009-09-11 2009-09-20 2009-11-11 \n",
       "         1          1          1          1          3          1 "
      ]
     },
     "metadata": {},
     "output_type": "display_data"
    }
   ],
   "source": [
    "table(sample$torokubi)"
   ]
  },
  {
   "cell_type": "code",
   "execution_count": 5,
   "metadata": {},
   "outputs": [
    {
     "data": {
      "text/plain": [
       "\n",
       "FALSE  TRUE \n",
       "    4     4 "
      ]
     },
     "metadata": {},
     "output_type": "display_data"
    }
   ],
   "source": [
    "table(sample$shohin_bunrui=='キッチン用品')"
   ]
  },
  {
   "cell_type": "code",
   "execution_count": 8,
   "metadata": {},
   "outputs": [
    {
     "data": {
      "text/html": [
       "8"
      ],
      "text/latex": [
       "8"
      ],
      "text/markdown": [
       "8"
      ],
      "text/plain": [
       "[1] 8"
      ]
     },
     "metadata": {},
     "output_type": "display_data"
    }
   ],
   "source": [
    "# 🔥8.行と列について調べる\n",
    "\n",
    "nrow(sample)"
   ]
  },
  {
   "cell_type": "code",
   "execution_count": 9,
   "metadata": {},
   "outputs": [
    {
     "data": {
      "text/html": [
       "6"
      ],
      "text/latex": [
       "6"
      ],
      "text/markdown": [
       "6"
      ],
      "text/plain": [
       "[1] 6"
      ]
     },
     "metadata": {},
     "output_type": "display_data"
    }
   ],
   "source": [
    "ncol(sample)"
   ]
  },
  {
   "cell_type": "code",
   "execution_count": 11,
   "metadata": {},
   "outputs": [
    {
     "data": {
      "text/html": [
       "<ol class=list-inline>\n",
       "\t<li>'1'</li>\n",
       "\t<li>'2'</li>\n",
       "\t<li>'3'</li>\n",
       "\t<li>'4'</li>\n",
       "\t<li>'5'</li>\n",
       "\t<li>'6'</li>\n",
       "\t<li>'7'</li>\n",
       "\t<li>'8'</li>\n",
       "</ol>\n"
      ],
      "text/latex": [
       "\\begin{enumerate*}\n",
       "\\item '1'\n",
       "\\item '2'\n",
       "\\item '3'\n",
       "\\item '4'\n",
       "\\item '5'\n",
       "\\item '6'\n",
       "\\item '7'\n",
       "\\item '8'\n",
       "\\end{enumerate*}\n"
      ],
      "text/markdown": [
       "1. '1'\n",
       "2. '2'\n",
       "3. '3'\n",
       "4. '4'\n",
       "5. '5'\n",
       "6. '6'\n",
       "7. '7'\n",
       "8. '8'\n",
       "\n",
       "\n"
      ],
      "text/plain": [
       "[1] \"1\" \"2\" \"3\" \"4\" \"5\" \"6\" \"7\" \"8\""
      ]
     },
     "metadata": {},
     "output_type": "display_data"
    }
   ],
   "source": [
    "rownames(sample)"
   ]
  },
  {
   "cell_type": "code",
   "execution_count": 12,
   "metadata": {},
   "outputs": [
    {
     "data": {
      "text/html": [
       "<ol class=list-inline>\n",
       "\t<li>'shohin_id'</li>\n",
       "\t<li>'shohin_mei'</li>\n",
       "\t<li>'shohin_bunrui'</li>\n",
       "\t<li>'hanbai_tanka'</li>\n",
       "\t<li>'shiire_tanka'</li>\n",
       "\t<li>'torokubi'</li>\n",
       "</ol>\n"
      ],
      "text/latex": [
       "\\begin{enumerate*}\n",
       "\\item 'shohin\\_id'\n",
       "\\item 'shohin\\_mei'\n",
       "\\item 'shohin\\_bunrui'\n",
       "\\item 'hanbai\\_tanka'\n",
       "\\item 'shiire\\_tanka'\n",
       "\\item 'torokubi'\n",
       "\\end{enumerate*}\n"
      ],
      "text/markdown": [
       "1. 'shohin_id'\n",
       "2. 'shohin_mei'\n",
       "3. 'shohin_bunrui'\n",
       "4. 'hanbai_tanka'\n",
       "5. 'shiire_tanka'\n",
       "6. 'torokubi'\n",
       "\n",
       "\n"
      ],
      "text/plain": [
       "[1] \"shohin_id\"     \"shohin_mei\"    \"shohin_bunrui\" \"hanbai_tanka\" \n",
       "[5] \"shiire_tanka\"  \"torokubi\"     "
      ]
     },
     "metadata": {},
     "output_type": "display_data"
    }
   ],
   "source": [
    "colnames(sample)"
   ]
  },
  {
   "cell_type": "code",
   "execution_count": null,
   "metadata": {},
   "outputs": [],
   "source": []
  }
 ],
 "metadata": {
  "kernelspec": {
   "display_name": "R",
   "language": "R",
   "name": "ir"
  },
  "language_info": {
   "codemirror_mode": "r",
   "file_extension": ".r",
   "mimetype": "text/x-r-source",
   "name": "R",
   "pygments_lexer": "r",
   "version": "3.6.0"
  }
 },
 "nbformat": 4,
 "nbformat_minor": 2
}
