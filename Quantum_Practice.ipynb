{
 "cells": [
  {
   "cell_type": "code",
   "execution_count": 1,
   "metadata": {},
   "outputs": [
    {
     "data": {
      "text/plain": [
       "Counter({'11': 51, '00': 49})"
      ]
     },
     "execution_count": 1,
     "metadata": {},
     "output_type": "execute_result"
    }
   ],
   "source": [
    "from blueqat import Circuit\n",
    "\n",
    "C=Circuit()\n",
    "\n",
    "C.h[0].cx[0,1].m[:].run(shots=100)"
   ]
  },
  {
   "cell_type": "code",
   "execution_count": 2,
   "metadata": {},
   "outputs": [
    {
     "name": "stdout",
     "output_type": "stream",
     "text": [
      "Help on Circuit in module blueqat.circuit object:\n",
      "\n",
      "class Circuit(builtins.object)\n",
      " |  Circuit(n_qubits=0, ops=None)\n",
      " |  \n",
      " |  Store the gate operations and call the backends.\n",
      " |  \n",
      " |  Methods defined here:\n",
      " |  \n",
      " |  __add__(self, other)\n",
      " |  \n",
      " |  __getattr__(self, name)\n",
      " |  \n",
      " |  __iadd__(self, other)\n",
      " |  \n",
      " |  __init__(self, n_qubits=0, ops=None)\n",
      " |      Initialize self.  See help(type(self)) for accurate signature.\n",
      " |  \n",
      " |  copy(self, copy_backends=True, copy_default_backend=True, copy_cache=None, copy_history=None)\n",
      " |      Copy the circuit.\n",
      " |      \n",
      " |      :params\n",
      " |      copy_backends :bool copy backends if True.\n",
      " |      copy_default_backend :bool copy default_backend if True.\n",
      " |  \n",
      " |  get_default_backend_name(self)\n",
      " |      Get the default backend of this circuit or global setting.\n",
      " |      \n",
      " |      Returns:\n",
      " |          str: The name of default backend.\n",
      " |  \n",
      " |  make_cache(self, backend=None)\n",
      " |      Make a cache to reduce the time of run. Some backends may implemented it.\n",
      " |      \n",
      " |      This is temporary API. It may changed or deprecated.\n",
      " |  \n",
      " |  run(self, *args, backend=None, **kwargs)\n",
      " |      Run the circuit.\n",
      " |      \n",
      " |      `Circuit` have several backends. When `backend` parameter is specified,\n",
      " |      use specified backend, and otherwise, default backend is used.\n",
      " |      Other parameters are passed to the backend.\n",
      " |      \n",
      " |      The meaning of parameters are depends on the backend specifications.\n",
      " |      However, following parameters are commonly used.\n",
      " |      \n",
      " |      Commonly used args (Depends on backend):\n",
      " |          shots (int, optional): The number of sampling the circuit.\n",
      " |          returns (str, optional):  The category of returns value.\n",
      " |              e.g. \"statevector\" returns the state vector after run the circuit.\n",
      " |                   \"shots\" returns the counter of measured value.\n",
      " |          token, url (str, optional): The token and URL for cloud resource.\n",
      " |      \n",
      " |      Returns:\n",
      " |          Depends on backend.\n",
      " |      \n",
      " |      Raises:\n",
      " |          Depends on backend.\n",
      " |  \n",
      " |  set_default_backend(self, backend_name)\n",
      " |      Set the default backend of this circuit.\n",
      " |      \n",
      " |      This setting is only applied for this circuit.\n",
      " |      If you want to change the default backend of all gates,\n",
      " |      use `BlueqatGlobalSetting.set_default_backend()`.\n",
      " |      \n",
      " |      After set the default backend by this method,\n",
      " |      global setting is ignored even if `BlueqatGlobalSetting.set_default_backend()` is called.\n",
      " |      If you want to use global default setting, call this method with backend_name=None.\n",
      " |      \n",
      " |      Args:\n",
      " |          backend_name (str or None): new default backend name.\n",
      " |              If None is given, global setting is applied.\n",
      " |      \n",
      " |      Raises:\n",
      " |          ValueError: If `backend_name` is not registered backend.\n",
      " |  \n",
      " |  to_qasm(self, *args, **kwargs)\n",
      " |      Returns the OpenQASM output of this circuit.\n",
      " |  \n",
      " |  to_unitary(self, *args, **kwargs)\n",
      " |      Returns sympy unitary matrix of this circuit.\n",
      " |  \n",
      " |  ----------------------------------------------------------------------\n",
      " |  Data descriptors defined here:\n",
      " |  \n",
      " |  __dict__\n",
      " |      dictionary for instance variables (if defined)\n",
      " |  \n",
      " |  __weakref__\n",
      " |      list of weak references to the object (if defined)\n",
      "\n"
     ]
    }
   ],
   "source": [
    "help(C)"
   ]
  },
  {
   "cell_type": "markdown",
   "metadata": {},
   "source": [
    "## ※ 以下、🐱 Blueqat 練習問題より"
   ]
  },
  {
   "cell_type": "code",
   "execution_count": 4,
   "metadata": {},
   "outputs": [
    {
     "data": {
      "text/plain": [
       "array([ 0.70710678+0.j, -0.70710678+0.j])"
      ]
     },
     "execution_count": 4,
     "metadata": {},
     "output_type": "execute_result"
    }
   ],
   "source": [
    "# 1.状態ベクトルを求める\n",
    "\n",
    "Circuit().h[0].z[0].run()"
   ]
  },
  {
   "cell_type": "code",
   "execution_count": 6,
   "metadata": {},
   "outputs": [
    {
     "data": {
      "text/plain": [
       "Counter({'11': 40, '00': 60})"
      ]
     },
     "execution_count": 6,
     "metadata": {},
     "output_type": "execute_result"
    }
   ],
   "source": [
    "# 2.量子もつれを作る\n",
    "\n",
    "Circuit().h[0].cx[0,1].m[:].run(shots=100)"
   ]
  },
  {
   "cell_type": "code",
   "execution_count": 10,
   "metadata": {},
   "outputs": [
    {
     "data": {
      "text/plain": [
       "Counter({'111': 1})"
      ]
     },
     "execution_count": 10,
     "metadata": {},
     "output_type": "execute_result"
    }
   ],
   "source": [
    "# 3.トフォリゲート(3量子ビット)を作る\n",
    "\n",
    "Circuit().x[:2].ccx[0,1,2].m[:].run(shots=1)"
   ]
  },
  {
   "cell_type": "code",
   "execution_count": 12,
   "metadata": {},
   "outputs": [
    {
     "data": {
      "text/plain": [
       "Counter({'01': 1})"
      ]
     },
     "execution_count": 12,
     "metadata": {},
     "output_type": "execute_result"
    }
   ],
   "source": [
    "# 4.swapゲート(2つの量子ビットの値を入れ替える)\n",
    "\n",
    "Circuit().x[0].cx[0,1].cx[1,0].cx[0,1].m[:].run(shots=1)"
   ]
  },
  {
   "cell_type": "code",
   "execution_count": 13,
   "metadata": {},
   "outputs": [
    {
     "data": {
      "text/plain": [
       "Counter({'11': 1})"
      ]
     },
     "execution_count": 13,
     "metadata": {},
     "output_type": "execute_result"
    }
   ],
   "source": [
    "# 5.制御ゲート(cx,cz)\n",
    "# cx\n",
    "\n",
    "Circuit().x[0].cx[0,1].m[:].run(shots=1)"
   ]
  },
  {
   "cell_type": "code",
   "execution_count": 16,
   "metadata": {},
   "outputs": [
    {
     "data": {
      "text/plain": [
       "Counter({'11': 1})"
      ]
     },
     "execution_count": 16,
     "metadata": {},
     "output_type": "execute_result"
    }
   ],
   "source": [
    "# cz\n",
    "\n",
    "Circuit().x[0].h[1].cz[0,1].h[1].m[:].run(shots=1)"
   ]
  },
  {
   "cell_type": "code",
   "execution_count": 24,
   "metadata": {},
   "outputs": [
    {
     "data": {
      "text/plain": [
       "Counter({'11': 100})"
      ]
     },
     "execution_count": 24,
     "metadata": {},
     "output_type": "execute_result"
    }
   ],
   "source": [
    "# 6.制御ゲート(Rz)\n",
    "\n",
    "import math\n",
    "Circuit().x[1].h[0].rz(math.pi/2)[0].cx[1,0].rz(-math.pi/2)[0].cx[1,0].h[0].m[:].run(shots=100)"
   ]
  },
  {
   "cell_type": "code",
   "execution_count": 25,
   "metadata": {},
   "outputs": [
    {
     "data": {
      "text/plain": [
       "Counter({'000': 42, '111': 58})"
      ]
     },
     "execution_count": 25,
     "metadata": {},
     "output_type": "execute_result"
    }
   ],
   "source": [
    "# 7.GHZ\n",
    "\n",
    "Circuit().h[:2].x[2].cx[1,2].cx[0,2].h[:].m[:].run(shots=100)"
   ]
  },
  {
   "cell_type": "code",
   "execution_count": 29,
   "metadata": {},
   "outputs": [
    {
     "data": {
      "text/plain": [
       "Counter({'011': 53, '100': 47})"
      ]
     },
     "execution_count": 29,
     "metadata": {},
     "output_type": "execute_result"
    }
   ],
   "source": [
    "Circuit().h[:2].x[2].cx[1,2].cx[0,2].h[:].x[0].m[:].run(shots=100)"
   ]
  },
  {
   "cell_type": "code",
   "execution_count": 28,
   "metadata": {},
   "outputs": [
    {
     "data": {
      "text/plain": [
       "Counter({'011': 52, '100': 48})"
      ]
     },
     "execution_count": 28,
     "metadata": {},
     "output_type": "execute_result"
    }
   ],
   "source": [
    "ghz=Circuit().h[:2].x[2].cx[1,2].cx[0,2].h[:]\n",
    "x=Circuit().x[0]\n",
    "(ghz+x).m[:].run(shots=100)"
   ]
  },
  {
   "cell_type": "code",
   "execution_count": null,
   "metadata": {},
   "outputs": [],
   "source": []
  }
 ],
 "metadata": {
  "kernelspec": {
   "display_name": "Python 3",
   "language": "python",
   "name": "python3"
  },
  "language_info": {
   "codemirror_mode": {
    "name": "ipython",
    "version": 3
   },
   "file_extension": ".py",
   "mimetype": "text/x-python",
   "name": "python",
   "nbconvert_exporter": "python",
   "pygments_lexer": "ipython3",
   "version": "3.7.3"
  }
 },
 "nbformat": 4,
 "nbformat_minor": 2
}
