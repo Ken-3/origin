{
 "cells": [
  {
   "cell_type": "code",
   "execution_count": 3,
   "metadata": {},
   "outputs": [
    {
     "data": {
      "text/plain": [
       "Counter({'11': 58, '00': 42})"
      ]
     },
     "execution_count": 3,
     "metadata": {},
     "output_type": "execute_result"
    }
   ],
   "source": [
    "from blueqat import Circuit\n",
    "\n",
    "C=Circuit()\n",
    "\n",
    "C.h[0].cx[0,1].m[:].run(shots=100)"
   ]
  },
  {
   "cell_type": "code",
   "execution_count": 4,
   "metadata": {},
   "outputs": [
    {
     "name": "stdout",
     "output_type": "stream",
     "text": [
      "Help on Circuit in module blueqat.circuit object:\n",
      "\n",
      "class Circuit(builtins.object)\n",
      " |  Circuit(n_qubits=0, ops=None)\n",
      " |  \n",
      " |  Store the gate operations and call the backends.\n",
      " |  \n",
      " |  Methods defined here:\n",
      " |  \n",
      " |  __add__(self, other)\n",
      " |  \n",
      " |  __getattr__(self, name)\n",
      " |  \n",
      " |  __iadd__(self, other)\n",
      " |  \n",
      " |  __init__(self, n_qubits=0, ops=None)\n",
      " |      Initialize self.  See help(type(self)) for accurate signature.\n",
      " |  \n",
      " |  copy(self, copy_backends=True, copy_default_backend=True, copy_cache=None, copy_history=None)\n",
      " |      Copy the circuit.\n",
      " |      \n",
      " |      :params\n",
      " |      copy_backends :bool copy backends if True.\n",
      " |      copy_default_backend :bool copy default_backend if True.\n",
      " |  \n",
      " |  get_default_backend_name(self)\n",
      " |      Get the default backend of this circuit or global setting.\n",
      " |      \n",
      " |      Returns:\n",
      " |          str: The name of default backend.\n",
      " |  \n",
      " |  make_cache(self, backend=None)\n",
      " |      Make a cache to reduce the time of run. Some backends may implemented it.\n",
      " |      \n",
      " |      This is temporary API. It may changed or deprecated.\n",
      " |  \n",
      " |  run(self, *args, backend=None, **kwargs)\n",
      " |      Run the circuit.\n",
      " |      \n",
      " |      `Circuit` have several backends. When `backend` parameter is specified,\n",
      " |      use specified backend, and otherwise, default backend is used.\n",
      " |      Other parameters are passed to the backend.\n",
      " |      \n",
      " |      The meaning of parameters are depends on the backend specifications.\n",
      " |      However, following parameters are commonly used.\n",
      " |      \n",
      " |      Commonly used args (Depends on backend):\n",
      " |          shots (int, optional): The number of sampling the circuit.\n",
      " |          returns (str, optional):  The category of returns value.\n",
      " |              e.g. \"statevector\" returns the state vector after run the circuit.\n",
      " |                   \"shots\" returns the counter of measured value.\n",
      " |          token, url (str, optional): The token and URL for cloud resource.\n",
      " |      \n",
      " |      Returns:\n",
      " |          Depends on backend.\n",
      " |      \n",
      " |      Raises:\n",
      " |          Depends on backend.\n",
      " |  \n",
      " |  set_default_backend(self, backend_name)\n",
      " |      Set the default backend of this circuit.\n",
      " |      \n",
      " |      This setting is only applied for this circuit.\n",
      " |      If you want to change the default backend of all gates,\n",
      " |      use `BlueqatGlobalSetting.set_default_backend()`.\n",
      " |      \n",
      " |      After set the default backend by this method,\n",
      " |      global setting is ignored even if `BlueqatGlobalSetting.set_default_backend()` is called.\n",
      " |      If you want to use global default setting, call this method with backend_name=None.\n",
      " |      \n",
      " |      Args:\n",
      " |          backend_name (str or None): new default backend name.\n",
      " |              If None is given, global setting is applied.\n",
      " |      \n",
      " |      Raises:\n",
      " |          ValueError: If `backend_name` is not registered backend.\n",
      " |  \n",
      " |  to_qasm(self, *args, **kwargs)\n",
      " |      Returns the OpenQASM output of this circuit.\n",
      " |  \n",
      " |  to_unitary(self, *args, **kwargs)\n",
      " |      Returns sympy unitary matrix of this circuit.\n",
      " |  \n",
      " |  ----------------------------------------------------------------------\n",
      " |  Data descriptors defined here:\n",
      " |  \n",
      " |  __dict__\n",
      " |      dictionary for instance variables (if defined)\n",
      " |  \n",
      " |  __weakref__\n",
      " |      list of weak references to the object (if defined)\n",
      "\n"
     ]
    }
   ],
   "source": [
    "help(C)"
   ]
  },
  {
   "cell_type": "code",
   "execution_count": null,
   "metadata": {},
   "outputs": [],
   "source": []
  }
 ],
 "metadata": {
  "kernelspec": {
   "display_name": "Python 3",
   "language": "python",
   "name": "python3"
  },
  "language_info": {
   "codemirror_mode": {
    "name": "ipython",
    "version": 3
   },
   "file_extension": ".py",
   "mimetype": "text/x-python",
   "name": "python",
   "nbconvert_exporter": "python",
   "pygments_lexer": "ipython3",
   "version": "3.7.3"
  }
 },
 "nbformat": 4,
 "nbformat_minor": 2
}
