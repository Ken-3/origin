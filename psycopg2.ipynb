{
 "cells": [
  {
   "cell_type": "code",
   "execution_count": 1,
   "metadata": {
    "colab": {},
    "colab_type": "code",
    "id": "HZf4i6wk1HlK"
   },
   "outputs": [],
   "source": [
    "import psycopg2"
   ]
  },
  {
   "cell_type": "code",
   "execution_count": 2,
   "metadata": {
    "colab": {},
    "colab_type": "code",
    "id": "uTW4ekWI1HlQ"
   },
   "outputs": [],
   "source": [
    "con=psycopg2.connect(dbname='shop', user='postgres', password='monachimA')"
   ]
  },
  {
   "cell_type": "code",
   "execution_count": 3,
   "metadata": {
    "colab": {},
    "colab_type": "code",
    "id": "_fIOCrgu1HlT"
   },
   "outputs": [],
   "source": [
    "cur=con.cursor()\n",
    "cur.execute('select * from shohin;') # 🔥DMLをカンマで括る"
   ]
  },
  {
   "cell_type": "code",
   "execution_count": 66,
   "metadata": {
    "colab": {},
    "colab_type": "code",
    "id": "0LzP-9d41Hld",
    "outputId": "67ac6390-ab06-40aa-a8f9-db0afcd4b1f7"
   },
   "outputs": [
    {
     "data": {
      "text/plain": [
       "('0001', 'Tシャツ', '衣服', 1000, 500, datetime.date(2009, 10, 10))"
      ]
     },
     "execution_count": 66,
     "metadata": {},
     "output_type": "execute_result"
    }
   ],
   "source": [
    "cur.execute('select * from shohin;')\n",
    "cur.fetchone() # 🔥1行取得"
   ]
  },
  {
   "cell_type": "code",
   "execution_count": 70,
   "metadata": {},
   "outputs": [
    {
     "data": {
      "text/plain": [
       "[('0001', 'Tシャツ', '衣服', 1000, 500, datetime.date(2009, 10, 10)),\n",
       " ('0002', '穴あけパンチ', '事務用品', 500, 320, datetime.date(2009, 10, 10)),\n",
       " ('0008', 'ボールペン', '事務用品', 100, None, None)]"
      ]
     },
     "execution_count": 70,
     "metadata": {},
     "output_type": "execute_result"
    }
   ],
   "source": [
    "cur.execute('select * from shohin;')\n",
    "cur.fetchmany(3) # 🔥先頭から指定行取得"
   ]
  },
  {
   "cell_type": "code",
   "execution_count": 34,
   "metadata": {},
   "outputs": [
    {
     "data": {
      "text/plain": [
       "[('0001', 'Tシャツ', '衣服', 1000, 500, datetime.date(2009, 10, 10)),\n",
       " ('0002', '穴あけパンチ', '事務用品', 500, 320, datetime.date(2009, 10, 10)),\n",
       " ('0008', 'ボールペン', '事務用品', 100, None, None),\n",
       " ('0004', '包丁', 'キッチン用品', 300000, 1400, datetime.date(2009, 10, 10)),\n",
       " ('0006', 'フォーク', 'キッチン用品', 50000, None, datetime.date(2009, 10, 10)),\n",
       " ('0007', 'おろしがね', 'キッチン用品', 88000, 395, datetime.date(2009, 10, 10))]"
      ]
     },
     "execution_count": 34,
     "metadata": {},
     "output_type": "execute_result"
    }
   ],
   "source": [
    "cur.execute('select * from shohin;')\n",
    "cur.fetchall() # 🔥全行取得"
   ]
  },
  {
   "cell_type": "code",
   "execution_count": 24,
   "metadata": {
    "colab": {},
    "colab_type": "code",
    "id": "tBOejjCE1Hli"
   },
   "outputs": [],
   "source": [
    "# 🔥DB切断\n",
    "cur.close()\n",
    "con.close()"
   ]
  },
  {
   "cell_type": "markdown",
   "metadata": {
    "colab_type": "text",
    "id": "hZ7c1W4u5EJg"
   },
   "source": [
    "## 🌟 次回試すこと\n",
    "\n",
    ">・whereで条件を指定する\n",
    "\n",
    ">・カラム名を表示させる\n",
    "\n",
    ">・テーブルをpandas.DataFrameへ変換する\n",
    "\n",
    ">・テーブルをコピーしてcsvとして出力する\n",
    "\n",
    ">・csvをDBにコピーして新規テーブルを作成する\n"
   ]
  },
  {
   "cell_type": "code",
   "execution_count": null,
   "metadata": {},
   "outputs": [],
   "source": []
  }
 ],
 "metadata": {
  "colab": {
   "collapsed_sections": [],
   "name": "🌏 psycopg2 - PythonからPostgreSQLを操作する.ipynb",
   "provenance": [],
   "version": "0.3.2"
  },
  "kernelspec": {
   "display_name": "Python 3",
   "language": "python",
   "name": "python3"
  },
  "language_info": {
   "codemirror_mode": {
    "name": "ipython",
    "version": 3
   },
   "file_extension": ".py",
   "mimetype": "text/x-python",
   "name": "python",
   "nbconvert_exporter": "python",
   "pygments_lexer": "ipython3",
   "version": "3.7.0"
  }
 },
 "nbformat": 4,
 "nbformat_minor": 1
}
